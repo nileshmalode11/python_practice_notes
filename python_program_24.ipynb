{
  "nbformat": 4,
  "nbformat_minor": 0,
  "metadata": {
    "colab": {
      "provenance": [],
      "authorship_tag": "ABX9TyMPv3dUxwOjxwjdfNSfJill",
      "include_colab_link": true
    },
    "kernelspec": {
      "name": "python3",
      "display_name": "Python 3"
    },
    "language_info": {
      "name": "python"
    }
  },
  "cells": [
    {
      "cell_type": "markdown",
      "metadata": {
        "id": "view-in-github",
        "colab_type": "text"
      },
      "source": [
        "<a href=\"https://colab.research.google.com/github/nileshmalode11/python_practice_notes/blob/main/python_program_24.ipynb\" target=\"_parent\"><img src=\"https://colab.research.google.com/assets/colab-badge.svg\" alt=\"Open In Colab\"/></a>"
      ]
    },
    {
      "cell_type": "code",
      "execution_count": null,
      "metadata": {
        "colab": {
          "base_uri": "https://localhost:8080/"
        },
        "id": "NrMFEX5h1Hr6",
        "outputId": "29c45439-ac6a-41ea-a569-0f08c5c0e853"
      },
      "outputs": [
        {
          "output_type": "stream",
          "name": "stdout",
          "text": [
            "{'name': 'nilesh', 'age': 24}\n"
          ]
        }
      ],
      "source": [
        "key_list = [\"name\", \"age\"]\n",
        "value_list = [\"nilesh\", 24]\n",
        "\n",
        "d = {k:v for k, v in zip(key_list,value_list)}\n",
        "print(d)"
      ]
    },
    {
      "cell_type": "code",
      "source": [
        "my_dict = {}\n",
        "for i in range(len(key_list)):\n",
        "  key = key_list[i]\n",
        "  value = value_list[i]\n",
        "  my_dict[key]=value\n",
        "print(my_dict)"
      ],
      "metadata": {
        "colab": {
          "base_uri": "https://localhost:8080/"
        },
        "id": "fCCZpbNU1fG7",
        "outputId": "5bee57a4-3914-4787-e59c-e83afc155061"
      },
      "execution_count": null,
      "outputs": [
        {
          "output_type": "stream",
          "name": "stdout",
          "text": [
            "{'name': 'nilesh', 'age': 24}\n"
          ]
        }
      ]
    },
    {
      "cell_type": "code",
      "source": [
        "def generate_ngrams(text, n):\n",
        "    \"\"\"\n",
        "    Generate n-grams from the given text.\n",
        "\n",
        "    Args:\n",
        "    - text: Input text as a string.\n",
        "    - n: Size of the n-grams (e.g., 1 for unigrams, 2 for bigrams, etc.).\n",
        "\n",
        "    Returns:\n",
        "    - List of n-grams.\n",
        "    \"\"\"\n",
        "    # Tokenize the text into words\n",
        "    words = text.split()\n",
        "\n",
        "    # Generate n-grams\n",
        "    ngrams = []\n",
        "    for i in range(len(words) - n + 1):\n",
        "        ngrams.append(\" \".join(words[i:i + n]))\n",
        "\n",
        "    return ngrams\n",
        "\n",
        "# Example usage\n",
        "text = \"The quick brown fox jumps over the lazy dog\"\n",
        "n = 3 # Trigrams\n",
        "trigrams = generate_ngrams(text, n)\n",
        "print(\"Trigrams:\", trigrams)"
      ],
      "metadata": {
        "colab": {
          "base_uri": "https://localhost:8080/"
        },
        "id": "h9qDiuum2H0g",
        "outputId": "e45f1a9f-8b22-465e-b1f3-07ce75972187"
      },
      "execution_count": null,
      "outputs": [
        {
          "output_type": "stream",
          "name": "stdout",
          "text": [
            "Trigrams: ['The quick brown', 'quick brown fox', 'brown fox jumps', 'fox jumps over', 'jumps over the', 'over the lazy', 'the lazy dog']\n"
          ]
        }
      ]
    },
    {
      "cell_type": "code",
      "source": [
        "import nltk\n",
        "from nltk.stem import PorterStemmer,SnowballStemmer"
      ],
      "metadata": {
        "id": "cpAbdoni6lbR"
      },
      "execution_count": null,
      "outputs": []
    },
    {
      "cell_type": "code",
      "source": [
        "stemming = PorterStemmer()\n",
        "stemming.stem(\"carying\")"
      ],
      "metadata": {
        "colab": {
          "base_uri": "https://localhost:8080/",
          "height": 35
        },
        "id": "CX5XDpjLxNx0",
        "outputId": "4c3a4ff3-4877-400e-a272-705f225952eb"
      },
      "execution_count": null,
      "outputs": [
        {
          "output_type": "execute_result",
          "data": {
            "text/plain": [
              "'cari'"
            ],
            "application/vnd.google.colaboratory.intrinsic+json": {
              "type": "string"
            }
          },
          "metadata": {},
          "execution_count": 6
        }
      ]
    },
    {
      "cell_type": "code",
      "source": [
        "from nltk.stem import WordNetLemmatizer"
      ],
      "metadata": {
        "id": "0xqEILotytvE"
      },
      "execution_count": null,
      "outputs": []
    },
    {
      "cell_type": "code",
      "source": [
        "nltk.download(\"wordnet\")"
      ],
      "metadata": {
        "colab": {
          "base_uri": "https://localhost:8080/"
        },
        "id": "X2wYQM_IzHhP",
        "outputId": "98dbaac5-e806-42e4-cf18-4c4cbdb8c889"
      },
      "execution_count": null,
      "outputs": [
        {
          "output_type": "stream",
          "name": "stderr",
          "text": [
            "[nltk_data] Downloading package wordnet to /root/nltk_data...\n"
          ]
        },
        {
          "output_type": "execute_result",
          "data": {
            "text/plain": [
              "True"
            ]
          },
          "metadata": {},
          "execution_count": 8
        }
      ]
    },
    {
      "cell_type": "code",
      "source": [
        "WordNetLemmatizer().lemmatize(\"car\",pos=\"v\")"
      ],
      "metadata": {
        "colab": {
          "base_uri": "https://localhost:8080/",
          "height": 35
        },
        "id": "MBc5ZBCxy90A",
        "outputId": "ea98637e-17fe-41bd-bd71-118b46a4baeb"
      },
      "execution_count": null,
      "outputs": [
        {
          "output_type": "execute_result",
          "data": {
            "text/plain": [
              "'car'"
            ],
            "application/vnd.google.colaboratory.intrinsic+json": {
              "type": "string"
            }
          },
          "metadata": {},
          "execution_count": 11
        }
      ]
    },
    {
      "cell_type": "code",
      "source": [
        "from nltk.tokenize import word_tokenize,sent_tokenize"
      ],
      "metadata": {
        "id": "Vc0WagtGzDJI"
      },
      "execution_count": null,
      "outputs": []
    },
    {
      "cell_type": "code",
      "source": [
        "nltk.download(\"punkt\")"
      ],
      "metadata": {
        "colab": {
          "base_uri": "https://localhost:8080/"
        },
        "id": "Wa6QOHBa2TbN",
        "outputId": "d7065daf-0b98-4118-86f0-5ce51db1f6a5"
      },
      "execution_count": null,
      "outputs": [
        {
          "output_type": "stream",
          "name": "stderr",
          "text": [
            "[nltk_data] Downloading package punkt to /root/nltk_data...\n",
            "[nltk_data]   Unzipping tokenizers/punkt.zip.\n"
          ]
        },
        {
          "output_type": "execute_result",
          "data": {
            "text/plain": [
              "True"
            ]
          },
          "metadata": {},
          "execution_count": 34
        }
      ]
    },
    {
      "cell_type": "code",
      "source": [
        "a = \"i am nilesh malode from chatrapati sambhajinagar\"\n",
        "\n",
        "tokens = word_tokenize(a)\n",
        "tokens"
      ],
      "metadata": {
        "colab": {
          "base_uri": "https://localhost:8080/"
        },
        "id": "LPNEpq9811Gw",
        "outputId": "7bcafa04-4e4c-480a-9b10-f846ed497c24"
      },
      "execution_count": null,
      "outputs": [
        {
          "output_type": "execute_result",
          "data": {
            "text/plain": [
              "['i', 'am', 'nilesh', 'malode', 'from', 'chatrapati', 'sambhajinagar']"
            ]
          },
          "metadata": {},
          "execution_count": 48
        }
      ]
    },
    {
      "cell_type": "code",
      "source": [
        "nltk.download(\"stopwords\")"
      ],
      "metadata": {
        "colab": {
          "base_uri": "https://localhost:8080/"
        },
        "id": "UWOfU1CN47gf",
        "outputId": "319b026f-d6d2-4983-f1d3-a60affc45820"
      },
      "execution_count": null,
      "outputs": [
        {
          "output_type": "stream",
          "name": "stderr",
          "text": [
            "[nltk_data] Downloading package stopwords to /root/nltk_data...\n",
            "[nltk_data]   Unzipping corpora/stopwords.zip.\n"
          ]
        },
        {
          "output_type": "execute_result",
          "data": {
            "text/plain": [
              "True"
            ]
          },
          "metadata": {},
          "execution_count": 55
        }
      ]
    },
    {
      "cell_type": "code",
      "source": [
        "import nltk\n",
        "from nltk.tokenize import word_tokenize\n",
        "import string\n",
        "text =\"\"\"hi hello how are you.\n",
        "      fine and you\n",
        "      where are you from\"\"\"\n",
        "punctuation = string.punctuation\n",
        "text = \"\".join(char for char in text if char not in punctuation)\n",
        "# text = list(text)\n",
        "# tokenized_text=[word_tokenize(i) for i in text]\n",
        "\n",
        "print(word_tokenize(text))"
      ],
      "metadata": {
        "colab": {
          "base_uri": "https://localhost:8080/"
        },
        "id": "gTF3nUH-7c_-",
        "outputId": "7752601d-748e-4610-e4f9-1057075189cc"
      },
      "execution_count": null,
      "outputs": [
        {
          "output_type": "stream",
          "name": "stdout",
          "text": [
            "['hi', 'hello', 'how', 'are', 'you', 'fine', 'and', 'you', 'where', 'are', 'you', 'from']\n"
          ]
        }
      ]
    },
    {
      "cell_type": "code",
      "source": [
        "import nltk\n",
        "from nltk.tokenize import word_tokenize\n",
        "\n",
        "# Sample dataset\n",
        "dataset = [\n",
        "    \"This is the first text entry.\",\n",
        "    \"And this is the second text entry.\"\n",
        "]\n",
        "\n",
        "# Tokenize each text entry in the dataset\n",
        "tokenized_dataset = [word_tokenize(text) for text in dataset]\n",
        "print(tokenized_dataset)\n",
        "\n",
        "# Print the tokenized dataset\n",
        "stopword=stopwords.words(\"english\")\n",
        "\n",
        "for tokens in tokenized_dataset:\n",
        "  stem_words=[]\n",
        "  for token in tokens:\n",
        "    if token not in stopword:\n",
        "      stem_words.append(token)\n",
        "  print(stem_words)\n"
      ],
      "metadata": {
        "colab": {
          "base_uri": "https://localhost:8080/"
        },
        "id": "ZE6n8O2o2KEp",
        "outputId": "594545f3-5f0b-49ab-afaa-63c003ee04fd"
      },
      "execution_count": null,
      "outputs": [
        {
          "output_type": "stream",
          "name": "stdout",
          "text": [
            "[['This', 'is', 'the', 'first', 'text', 'entry', '.'], ['And', 'this', 'is', 'the', 'second', 'text', 'entry', '.']]\n",
            "['This', 'first', 'text', 'entry', '.']\n",
            "['And', 'second', 'text', 'entry', '.']\n"
          ]
        }
      ]
    },
    {
      "cell_type": "code",
      "source": [
        "\n",
        "from nltk.corpus import stopwords"
      ],
      "metadata": {
        "id": "mqrE47CG3aoJ"
      },
      "execution_count": null,
      "outputs": []
    },
    {
      "cell_type": "code",
      "source": [
        "# adding elements of list\n",
        "l1 = [1,2,3,4,56,7]\n",
        "l2 = [9,8,7,6,5,4]\n",
        "nl = []\n",
        "for i in range(len(l2)):\n",
        "  nl.append(l1[i]+l2[i])\n",
        "print(nl)"
      ],
      "metadata": {
        "id": "O7LfMjot3z1u",
        "colab": {
          "base_uri": "https://localhost:8080/"
        },
        "outputId": "57ec558e-6d44-4d96-fdf6-bbd20e695c83"
      },
      "execution_count": null,
      "outputs": [
        {
          "output_type": "stream",
          "name": "stdout",
          "text": [
            "[10, 10, 10, 10, 61, 11]\n"
          ]
        }
      ]
    },
    {
      "cell_type": "code",
      "source": [
        "str1 = \"Listen\"\n",
        "str2 = \"Silent\"\n",
        "\n",
        "str1 = list(str1.upper())\n",
        "str2 = list(str2.upper())\n",
        "str1.sort(), str2.sort()\n",
        "\n",
        "if(str1 == str2):\n",
        "    print(\"True\",str1,str2)\n",
        "else:\n",
        "    print(\"False\")"
      ],
      "metadata": {
        "colab": {
          "base_uri": "https://localhost:8080/"
        },
        "id": "7gvquTnhcorb",
        "outputId": "b5bf55eb-ebd1-4d73-e699-3d80b9f9b1cd"
      },
      "execution_count": null,
      "outputs": [
        {
          "output_type": "stream",
          "name": "stdout",
          "text": [
            "True ['E', 'I', 'L', 'N', 'S', 'T'] ['E', 'I', 'L', 'N', 'S', 'T']\n"
          ]
        }
      ]
    },
    {
      "cell_type": "code",
      "source": [
        "str1 = \"listen\"\n",
        "str2 = \"silent\"\n",
        "count=0\n",
        "for i in str1:\n",
        "  if i in str2:\n",
        "    print(i)\n",
        "    count+=1\n",
        "if count == len(str2):\n",
        "  print(\"true\")\n"
      ],
      "metadata": {
        "colab": {
          "base_uri": "https://localhost:8080/"
        },
        "id": "CyDQSidxKYwk",
        "outputId": "a334ad52-efe2-472f-c11e-0abb86618c67"
      },
      "execution_count": null,
      "outputs": [
        {
          "output_type": "stream",
          "name": "stdout",
          "text": [
            "l\n",
            "i\n",
            "s\n",
            "t\n",
            "e\n",
            "n\n",
            "true\n"
          ]
        }
      ]
    },
    {
      "cell_type": "code",
      "source": [
        "str1=list(str1.upper())\n",
        "str2=list(str2.upper())\n",
        "str1.sort(),str2.sort()\n",
        "if str1==str2:\n",
        "  print(\"true\")\n",
        "else:\n",
        "  print(\"false\")"
      ],
      "metadata": {
        "colab": {
          "base_uri": "https://localhost:8080/"
        },
        "id": "9xnJUReESypd",
        "outputId": "39ae43b5-18ba-4daa-98c7-d3c3d208e920"
      },
      "execution_count": null,
      "outputs": [
        {
          "output_type": "stream",
          "name": "stdout",
          "text": [
            "true\n"
          ]
        }
      ]
    },
    {
      "cell_type": "code",
      "source": [
        "import re\n",
        "\n",
        "name = 'Python is 1'\n",
        "\n",
        "digitCount = re.sub(\"[^0-9]\", \"\", name)\n",
        "letterCount = re.sub(\"[^a-zA-Z]\", \"\", name)\n",
        "spaceCount = re.findall(\"[ \\n]\", name)\n",
        "\n",
        "print(len(digitCount))\n",
        "print(len(letterCount))\n",
        "print(len(spaceCount))"
      ],
      "metadata": {
        "id": "X1yrfwrCe98-"
      },
      "execution_count": null,
      "outputs": []
    },
    {
      "cell_type": "code",
      "source": [
        "z = list(range(1,10))\n",
        "x = list(map(lambda x :{x:x**3},z))\n",
        "print(x)"
      ],
      "metadata": {
        "colab": {
          "base_uri": "https://localhost:8080/"
        },
        "id": "LXzqIS8cUvz7",
        "outputId": "e5e30cb5-3732-41af-ec5d-2b3820f19f66"
      },
      "execution_count": null,
      "outputs": [
        {
          "output_type": "stream",
          "name": "stdout",
          "text": [
            "<map object at 0x7d407a2a3880>\n"
          ]
        }
      ]
    },
    {
      "cell_type": "code",
      "source": [
        "my_dict = {i:1+7 for i in range(1, 10)}\n",
        "my_dict"
      ],
      "metadata": {
        "colab": {
          "base_uri": "https://localhost:8080/"
        },
        "id": "CmtIalgTiTj0",
        "outputId": "d5baa345-f452-4e7c-a0b4-b68026274ed9"
      },
      "execution_count": null,
      "outputs": [
        {
          "output_type": "execute_result",
          "data": {
            "text/plain": [
              "{1: 8, 2: 8, 3: 8, 4: 8, 5: 8, 6: 8, 7: 8, 8: 8, 9: 8}"
            ]
          },
          "metadata": {},
          "execution_count": 13
        }
      ]
    },
    {
      "cell_type": "code",
      "source": [
        "def simpleGeneratorFun():\n",
        "    yield 1\n",
        "    yield 2\n",
        "    yield 5\n",
        "\n",
        "# Driver code to check above generator function\n",
        "for value in simpleGeneratorFun():\n",
        "    print(value)\n"
      ],
      "metadata": {
        "colab": {
          "base_uri": "https://localhost:8080/"
        },
        "id": "Dv02Qx_6jJQD",
        "outputId": "c3371986-c6c7-4c16-9e18-ab086c5dfeac"
      },
      "execution_count": null,
      "outputs": [
        {
          "output_type": "stream",
          "name": "stdout",
          "text": [
            "1\n",
            "2\n",
            "5\n"
          ]
        }
      ]
    },
    {
      "cell_type": "code",
      "source": [
        "lis = [\"nilesh\",\"ganesh\", \"malode\"]\n",
        "x = \"\".join(lis)\n",
        "b = {char:x.count(char)for char in x}\n",
        "print(b)"
      ],
      "metadata": {
        "colab": {
          "base_uri": "https://localhost:8080/"
        },
        "id": "xDl_-TZFVw5M",
        "outputId": "0a7c39ae-78eb-427c-8a7a-4bd1c14614cf"
      },
      "execution_count": null,
      "outputs": [
        {
          "output_type": "stream",
          "name": "stdout",
          "text": [
            "{'n': 2, 'i': 1, 'l': 2, 'e': 3, 's': 2, 'h': 2, 'g': 1, 'a': 2, 'm': 1, 'o': 1, 'd': 1}\n"
          ]
        }
      ]
    },
    {
      "cell_type": "code",
      "source": [
        "output=\"\"\n",
        "for i in lis:\n",
        "  output+=i+\" \"\n",
        "print(output)"
      ],
      "metadata": {
        "colab": {
          "base_uri": "https://localhost:8080/"
        },
        "id": "I6xQNM9iWNtb",
        "outputId": "2dff136c-82fe-4f55-8b39-4787f69b9aff"
      },
      "execution_count": null,
      "outputs": [
        {
          "output_type": "stream",
          "name": "stdout",
          "text": [
            "nilesh ganesh malode \n"
          ]
        }
      ]
    },
    {
      "cell_type": "code",
      "source": [
        "# python code to find out the elementin list\n",
        "lis = [\"nilesh\",\"ganesh\", \"malode\"]\n",
        "x = \"\".join(lis)\n",
        "b = {char : x.count(char) for char in x}\n",
        "print(b)"
      ],
      "metadata": {
        "colab": {
          "base_uri": "https://localhost:8080/"
        },
        "id": "13v1dn_HjKLj",
        "outputId": "70c22e2b-195d-4c1e-faa1-06b3898b7888"
      },
      "execution_count": null,
      "outputs": [
        {
          "output_type": "stream",
          "name": "stdout",
          "text": [
            "{'n': 2, 'i': 1, 'l': 2, 'e': 3, 's': 2, 'h': 2, 'g': 1, 'a': 2, 'm': 1, 'o': 1, 'd': 1}\n"
          ]
        }
      ]
    },
    {
      "cell_type": "code",
      "source": [
        "lis = [\"nilesh\", \"ganesh\", \"malode\"]\n",
        "# Combine all strings into one string\n",
        "combined_string = \" \".join(lis)\n",
        "print(combined_string)\n",
        "# Count occurrences of each character using dictionary comprehension\n",
        "char_count = {char: combined_string.count(char) for char in combined_string}\n",
        "\n",
        "print(char_count)"
      ],
      "metadata": {
        "colab": {
          "base_uri": "https://localhost:8080/"
        },
        "id": "BI0T0LDbch6f",
        "outputId": "f9f6124b-9bda-41ae-bac2-1e75bcec351f"
      },
      "execution_count": null,
      "outputs": [
        {
          "output_type": "stream",
          "name": "stdout",
          "text": [
            "nilesh ganesh malode\n",
            "{'n': 2, 'i': 1, 'l': 2, 'e': 3, 's': 2, 'h': 2, ' ': 2, 'g': 1, 'a': 2, 'm': 1, 'o': 1, 'd': 1}\n"
          ]
        }
      ]
    },
    {
      "cell_type": "code",
      "source": [
        "output = \" \"\n",
        "for i in lis:\n",
        "  output += i+\" \"\n",
        "print(output)"
      ],
      "metadata": {
        "colab": {
          "base_uri": "https://localhost:8080/"
        },
        "id": "iuKG_zgndmi6",
        "outputId": "e7544a02-b9b4-4b58-d83e-a8e7eb4fb81d"
      },
      "execution_count": null,
      "outputs": [
        {
          "output_type": "stream",
          "name": "stdout",
          "text": [
            " nilesh ganesh malode \n"
          ]
        }
      ]
    },
    {
      "cell_type": "code",
      "source": [
        "lis = [1,2,3,4,5]\n",
        "for i in lis:\n",
        "  lis.remove(i)\n",
        "\n",
        "print(lis)\n"
      ],
      "metadata": {
        "colab": {
          "base_uri": "https://localhost:8080/"
        },
        "id": "gu8BckIngQNR",
        "outputId": "5ea35532-fbd6-4b9b-a95f-ccf1f694307e"
      },
      "execution_count": null,
      "outputs": [
        {
          "output_type": "stream",
          "name": "stdout",
          "text": [
            "[2, 4]\n"
          ]
        }
      ]
    },
    {
      "cell_type": "code",
      "source": [
        "def add_2_num(num1,num2):\n",
        "  while num2 != 0:\n",
        "    carry = num1 & num2\n",
        "    num1 = num1 ^ num2\n",
        "    num2 = carry << 1\n",
        "  return num1\n",
        "\n",
        "add_2_num(6,14)"
      ],
      "metadata": {
        "id": "EJL9iA8umPrO",
        "colab": {
          "base_uri": "https://localhost:8080/"
        },
        "outputId": "2aa60aa4-8f89-4fde-bc78-ee376e613ff3"
      },
      "execution_count": null,
      "outputs": [
        {
          "output_type": "execute_result",
          "data": {
            "text/plain": [
              "20"
            ]
          },
          "metadata": {},
          "execution_count": 31
        }
      ]
    },
    {
      "cell_type": "code",
      "source": [
        "def add_num(n1,n2):\n",
        "  while n2!=0:\n",
        "    n3 = n1&n2\n",
        "    n1=n1^n2\n",
        "    n2=n3<<1\n",
        "  return n1\n",
        "add_num(12,12)"
      ],
      "metadata": {
        "colab": {
          "base_uri": "https://localhost:8080/"
        },
        "id": "ECSKzShZv0D9",
        "outputId": "a6a6c902-362b-4fc6-d398-21f4079ed24a"
      },
      "execution_count": 2,
      "outputs": [
        {
          "output_type": "execute_result",
          "data": {
            "text/plain": [
              "24"
            ]
          },
          "metadata": {},
          "execution_count": 2
        }
      ]
    },
    {
      "cell_type": "code",
      "source": [
        "def get_sum(a,b):\n",
        "  while b!=0:\n",
        "    z=a&b\n",
        "    print(z)\n",
        "    a=a^b\n",
        "    print(a)\n",
        "    b=z<<1\n",
        "  return a\n",
        "# Example usage\n",
        "num1 = 12\n",
        "num2 = 5\n",
        "print(\"Sum:\", get_sum(num1, num2))  # Output will be 12"
      ],
      "metadata": {
        "colab": {
          "base_uri": "https://localhost:8080/"
        },
        "id": "itA1GHTf5v-F",
        "outputId": "66b9b094-7ee7-4242-8c02-77abbfca5096"
      },
      "execution_count": null,
      "outputs": [
        {
          "output_type": "stream",
          "name": "stdout",
          "text": [
            "4\n",
            "9\n",
            "8\n",
            "1\n",
            "0\n",
            "17\n",
            "Sum: 17\n"
          ]
        }
      ]
    },
    {
      "cell_type": "code",
      "source": [
        "def get_sum(a, b):\n",
        "    while b != 0:\n",
        "        carry = a & b\n",
        "        a = a ^ b\n",
        "        b = carry << 1\n",
        "\n",
        "    return a\n",
        "\n",
        "# Example usage\n",
        "num1 = 5\n",
        "num2 = 7\n",
        "print(\"Sum:\", get_sum(num1, num2))  # Output will be 12\n"
      ],
      "metadata": {
        "colab": {
          "base_uri": "https://localhost:8080/"
        },
        "id": "Yz9vHk5iQGzs",
        "outputId": "9c552196-1782-4be6-d3be-c6fcf92bc666"
      },
      "execution_count": null,
      "outputs": [
        {
          "output_type": "stream",
          "name": "stdout",
          "text": [
            "Sum: 12\n"
          ]
        }
      ]
    },
    {
      "cell_type": "code",
      "source": [
        "# program to find out palindrom mumber\n",
        "num = 1983891\n",
        "tem=num\n",
        "reverse=0\n",
        "while tem>0:\n",
        "  remindere = tem%10\n",
        "  reverse=(reverse*10)+remindere\n",
        "  tem=tem//10\n",
        "if reverse==num:\n",
        "  print(\"palindrom\")\n",
        "\n"
      ],
      "metadata": {
        "colab": {
          "base_uri": "https://localhost:8080/"
        },
        "id": "jQJfn1icQfnm",
        "outputId": "38a199d2-b4fa-4d72-e81a-bbee53ccabdf"
      },
      "execution_count": 3,
      "outputs": [
        {
          "output_type": "stream",
          "name": "stdout",
          "text": [
            "palindrom\n"
          ]
        }
      ]
    },
    {
      "cell_type": "code",
      "source": [
        "num=1983891\n",
        "num1=str(num)\n",
        "num2=num1[::-1]\n",
        "num2=int(num2)\n",
        "if num==num2:\n",
        "  print(\"palindrom\")"
      ],
      "metadata": {
        "colab": {
          "base_uri": "https://localhost:8080/"
        },
        "id": "plg6Ko3Iw3RX",
        "outputId": "94908600-0140-43f3-8c06-050961008c1a"
      },
      "execution_count": 12,
      "outputs": [
        {
          "output_type": "stream",
          "name": "stdout",
          "text": [
            "palindrom\n"
          ]
        }
      ]
    },
    {
      "cell_type": "code",
      "source": [
        "num = 121\n",
        "tem = num\n",
        "reverse = 0\n",
        "while tem>0:\n",
        "  print(tem)\n",
        "  reminder = tem%10\n",
        "  print(reminder)\n",
        "  reverse = (reverse*10)+reminder\n",
        "  print(reverse)\n",
        "  tem = tem//10\n",
        "if reverse==num:\n",
        "  print(\"palindrom\")"
      ],
      "metadata": {
        "colab": {
          "base_uri": "https://localhost:8080/"
        },
        "id": "8sSUVnD7XLqX",
        "outputId": "ef4c6c66-8283-44fc-a40e-c304aefa0dd5"
      },
      "execution_count": null,
      "outputs": [
        {
          "output_type": "stream",
          "name": "stdout",
          "text": [
            "121\n",
            "1\n",
            "1\n",
            "12\n",
            "2\n",
            "12\n",
            "1\n",
            "1\n",
            "121\n",
            "palindrom\n"
          ]
        }
      ]
    },
    {
      "cell_type": "code",
      "source": [
        "num=1634\n",
        "n=len(str(num))\n",
        "temp = num\n",
        "sum=0\n",
        "while temp>0:\n",
        "  sum+=(temp%10)**n\n",
        "  temp//=10\n",
        "if num==sum:\n",
        "  print(\"is armstrong\")"
      ],
      "metadata": {
        "colab": {
          "base_uri": "https://localhost:8080/"
        },
        "id": "KSjnQK2nUE3U",
        "outputId": "eb7a6634-daa1-46a0-a9c5-a556f9e3e6ba"
      },
      "execution_count": null,
      "outputs": [
        {
          "output_type": "stream",
          "name": "stdout",
          "text": [
            "is armstrong\n"
          ]
        }
      ]
    },
    {
      "cell_type": "code",
      "source": [
        "str1 = \"Analytics Vidhya\"\n",
        "str2 = \"\"\n",
        "for i in str1:\n",
        "    str2 = i+str2\n",
        "print(\"The original string is: \", str1)\n",
        "print(\"The reversed string is: \", str2)"
      ],
      "metadata": {
        "colab": {
          "base_uri": "https://localhost:8080/"
        },
        "id": "FkelHJ3NVRER",
        "outputId": "f8a38b68-8588-4175-e563-e4002528b6eb"
      },
      "execution_count": null,
      "outputs": [
        {
          "output_type": "stream",
          "name": "stdout",
          "text": [
            "The original string is:  Analytics Vidhya\n",
            "The reversed string is:  ayhdiV scitylanA\n"
          ]
        }
      ]
    },
    {
      "cell_type": "code",
      "source": [
        "z=str1.split()"
      ],
      "metadata": {
        "id": "nb-B9cJGg-iZ"
      },
      "execution_count": null,
      "outputs": []
    },
    {
      "cell_type": "code",
      "source": [
        "y = z[::-1]\n",
        "\" \".join(y)"
      ],
      "metadata": {
        "colab": {
          "base_uri": "https://localhost:8080/",
          "height": 35
        },
        "id": "3iNa9bsQ2JWm",
        "outputId": "705c7aa0-92b9-423f-d56b-1394d49c8519"
      },
      "execution_count": null,
      "outputs": [
        {
          "output_type": "execute_result",
          "data": {
            "text/plain": [
              "'Vidhya Analytics'"
            ],
            "application/vnd.google.colaboratory.intrinsic+json": {
              "type": "string"
            }
          },
          "metadata": {},
          "execution_count": 18
        }
      ]
    },
    {
      "cell_type": "code",
      "source": [
        "str3= \"nilesh ganesh malode\"\n",
        "word=\"\"\n",
        "words = []\n",
        "for char in str3:\n",
        "  if char !=\" \":\n",
        "    word = word+char\n",
        "  else:\n",
        "    words.append(word)\n",
        "    word=\"\"\n",
        "if word:\n",
        "  words.append(word)\n",
        "print(words)"
      ],
      "metadata": {
        "colab": {
          "base_uri": "https://localhost:8080/"
        },
        "id": "SRqOHUlo3Oye",
        "outputId": "1d92e529-6b8e-490d-a98d-4ec124a2dde4"
      },
      "execution_count": 15,
      "outputs": [
        {
          "output_type": "stream",
          "name": "stdout",
          "text": [
            "['nilesh', 'ganesh', 'malode']\n"
          ]
        }
      ]
    },
    {
      "cell_type": "code",
      "source": [
        "words[1]"
      ],
      "metadata": {
        "colab": {
          "base_uri": "https://localhost:8080/",
          "height": 35
        },
        "id": "SB2TF6v346NF",
        "outputId": "56a8252f-af3b-40cb-f3ef-4da37f03f7cf"
      },
      "execution_count": null,
      "outputs": [
        {
          "output_type": "execute_result",
          "data": {
            "text/plain": [
              "'ganesh'"
            ],
            "application/vnd.google.colaboratory.intrinsic+json": {
              "type": "string"
            }
          },
          "metadata": {},
          "execution_count": 25
        }
      ]
    },
    {
      "cell_type": "code",
      "source": [
        "output=\"\"\n",
        "for i in words:\n",
        "  output+=i+\" \"\n",
        "print(output)"
      ],
      "metadata": {
        "colab": {
          "base_uri": "https://localhost:8080/"
        },
        "id": "jGuFKL1C4_Hw",
        "outputId": "786ff413-7778-4d66-ada8-c82b8d1df04f"
      },
      "execution_count": null,
      "outputs": [
        {
          "output_type": "stream",
          "name": "stdout",
          "text": [
            "nilesh ganesh malode \n"
          ]
        }
      ]
    },
    {
      "cell_type": "code",
      "source": [
        "x = [1,2,3,4,5]"
      ],
      "metadata": {
        "id": "Vyan6cV71xxv"
      },
      "execution_count": null,
      "outputs": []
    },
    {
      "cell_type": "code",
      "source": [
        "x.reverse()"
      ],
      "metadata": {
        "id": "wPL1onxM1j91"
      },
      "execution_count": null,
      "outputs": []
    },
    {
      "cell_type": "code",
      "source": [
        "print(x)"
      ],
      "metadata": {
        "colab": {
          "base_uri": "https://localhost:8080/"
        },
        "id": "eeA_CZ6Z1tJ_",
        "outputId": "d53c60a9-d038-4617-f7ef-5e14d176a91b"
      },
      "execution_count": null,
      "outputs": [
        {
          "output_type": "stream",
          "name": "stdout",
          "text": [
            "[5, 4, 3, 2, 1]\n"
          ]
        }
      ]
    },
    {
      "cell_type": "code",
      "source": [
        "lis1 = [1,2,3,4,5,6,7,8,9,10]\n",
        "result = list(map(lambda x : (x,x**3),lis1))\n",
        "print(result)"
      ],
      "metadata": {
        "id": "2VO-Zy2C14NL",
        "colab": {
          "base_uri": "https://localhost:8080/"
        },
        "outputId": "5364cec5-ab4f-42e0-99e2-803b0585b1cd"
      },
      "execution_count": null,
      "outputs": [
        {
          "output_type": "stream",
          "name": "stdout",
          "text": [
            "[(1, 1), (2, 8), (3, 27), (4, 64), (5, 125), (6, 216), (7, 343), (8, 512), (9, 729), (10, 1000)]\n"
          ]
        }
      ]
    },
    {
      "cell_type": "code",
      "source": [
        "def Count(li):\n",
        "    counter = 0\n",
        "    for num in li:\n",
        "        if isinstance(num, tuple):\n",
        "            break\n",
        "        counter = counter + 1\n",
        "    return counter\n",
        "\n",
        "# Driver Code\n",
        "li = [4, 5, 6, 10, (1, 2, 3), 11, 2, 4]\n",
        "print(Count(li))"
      ],
      "metadata": {
        "colab": {
          "base_uri": "https://localhost:8080/"
        },
        "id": "8IwyYVy95Kcs",
        "outputId": "d1146652-e131-4996-d45f-bc40741cad02"
      },
      "execution_count": null,
      "outputs": [
        {
          "output_type": "stream",
          "name": "stdout",
          "text": [
            "4\n"
          ]
        }
      ]
    },
    {
      "cell_type": "code",
      "source": [
        "s = \"nilesh ganesh malode\"\n",
        "dic = {}\n",
        "for  char in s:\n",
        "  if char in dic and char !=\" \":\n",
        "    dic[char]+=1\n",
        "  elif char!=\" \":\n",
        "    dic[char]=1\n",
        "print(dic)"
      ],
      "metadata": {
        "colab": {
          "base_uri": "https://localhost:8080/"
        },
        "id": "_KsOGovo6Bwl",
        "outputId": "c53ed6a8-6f54-4df1-88c4-d3a7344d23e0"
      },
      "execution_count": null,
      "outputs": [
        {
          "output_type": "stream",
          "name": "stdout",
          "text": [
            "{'n': 2, 'i': 1, 'l': 2, 'e': 3, 's': 2, 'h': 2, 'g': 1, 'a': 2, 'm': 1, 'o': 1, 'd': 1}\n"
          ]
        }
      ]
    },
    {
      "cell_type": "code",
      "source": [
        "b = {char:s.count(char) for char in s if char !=\" \"}\n",
        "print(b)"
      ],
      "metadata": {
        "colab": {
          "base_uri": "https://localhost:8080/"
        },
        "id": "hd5GWaNu7ocy",
        "outputId": "7dd3e472-02b4-4afa-a4d0-a1b05700f635"
      },
      "execution_count": null,
      "outputs": [
        {
          "output_type": "stream",
          "name": "stdout",
          "text": [
            "{'n': 2, 'i': 1, 'l': 2, 'e': 3, 's': 2, 'h': 2, 'g': 1, 'a': 2, 'm': 1, 'o': 1, 'd': 1}\n"
          ]
        }
      ]
    },
    {
      "cell_type": "code",
      "source": [
        "import string\n",
        "lowecase = string.ascii_lowercase\n",
        "uppercase = string.ascii_uppercase"
      ],
      "metadata": {
        "id": "HaSg0om88ZpM"
      },
      "execution_count": null,
      "outputs": []
    },
    {
      "cell_type": "code",
      "source": [
        "s = \"Nilesh Ganesh Malode\"\n",
        "new_ss = \"\"\n",
        "for char in s:\n",
        "  if \"A\" <=char<= \"Z\":\n",
        "    new_ss+=chr(ord(char)+32)\n",
        "  else :\n",
        "    new_ss+=char\n",
        "print(new_ss)"
      ],
      "metadata": {
        "colab": {
          "base_uri": "https://localhost:8080/"
        },
        "id": "_GeN7IyW83D0",
        "outputId": "1468c52f-9890-4b49-d07d-817e78b6b719"
      },
      "execution_count": null,
      "outputs": [
        {
          "output_type": "stream",
          "name": "stdout",
          "text": [
            "nilesh ganesh malode\n"
          ]
        }
      ]
    },
    {
      "cell_type": "code",
      "source": [
        "s = \"NILESH GANESH MALODE\"\n",
        "new_ss = \"\"\n",
        "for char in s:\n",
        "  if char==\" \":\n",
        "    new_ss+=\" \"\n",
        "  elif \"A\" <=char<= \"Z\" :\n",
        "    new_ss+=chr(ord(char)+32)\n",
        "print(new_ss)"
      ],
      "metadata": {
        "colab": {
          "base_uri": "https://localhost:8080/"
        },
        "id": "VwoYKE6M0BoO",
        "outputId": "e19c1286-8a51-452f-a665-0c9d5ba5608a"
      },
      "execution_count": 21,
      "outputs": [
        {
          "output_type": "stream",
          "name": "stdout",
          "text": [
            "nilesh ganesh malode\n"
          ]
        }
      ]
    },
    {
      "cell_type": "code",
      "source": [
        "p=new_ss.split()\n",
        "print(new_ss)\n",
        "z = \" \".join(p[::-1])\n",
        "print(z)"
      ],
      "metadata": {
        "colab": {
          "base_uri": "https://localhost:8080/"
        },
        "id": "WeEiCYph9xf1",
        "outputId": "cbddc16f-49aa-4c34-963c-4a24412846d0"
      },
      "execution_count": null,
      "outputs": [
        {
          "output_type": "stream",
          "name": "stdout",
          "text": [
            "nilesh ganesh malode\n",
            "malode ganesh nilesh\n"
          ]
        }
      ]
    },
    {
      "cell_type": "code",
      "source": [
        "def p_n(l,u):\n",
        "  for num in range(l,u):\n",
        "    if num>=1:\n",
        "      for i in range(2,num):\n",
        "        if num%i==0:\n",
        "          break\n",
        "      else:\n",
        "        print(num)\n",
        "p_n(1,20)"
      ],
      "metadata": {
        "id": "XdVu1vQ2-OgH",
        "colab": {
          "base_uri": "https://localhost:8080/"
        },
        "outputId": "ce1dc1c0-7835-494e-d094-f48197da3b1e"
      },
      "execution_count": null,
      "outputs": [
        {
          "output_type": "stream",
          "name": "stdout",
          "text": [
            "1\n",
            "2\n",
            "3\n",
            "5\n",
            "7\n",
            "11\n",
            "13\n",
            "17\n",
            "19\n"
          ]
        }
      ]
    },
    {
      "cell_type": "code",
      "source": [],
      "metadata": {
        "id": "4N66aGUyX49c"
      },
      "execution_count": null,
      "outputs": []
    }
  ]
}
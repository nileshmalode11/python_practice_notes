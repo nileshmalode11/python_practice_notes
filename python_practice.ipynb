{
  "nbformat": 4,
  "nbformat_minor": 0,
  "metadata": {
    "colab": {
      "provenance": [],
      "authorship_tag": "ABX9TyMDGTw2BVkCNQu+KCdT9OR/",
      "include_colab_link": true
    },
    "kernelspec": {
      "name": "python3",
      "display_name": "Python 3"
    },
    "language_info": {
      "name": "python"
    }
  },
  "cells": [
    {
      "cell_type": "markdown",
      "metadata": {
        "id": "view-in-github",
        "colab_type": "text"
      },
      "source": [
        "<a href=\"https://colab.research.google.com/github/nileshmalode11/python_Assignment/blob/main/python_practice.ipynb\" target=\"_parent\"><img src=\"https://colab.research.google.com/assets/colab-badge.svg\" alt=\"Open In Colab\"/></a>"
      ]
    },
    {
      "cell_type": "code",
      "execution_count": 1,
      "metadata": {
        "colab": {
          "base_uri": "https://localhost:8080/"
        },
        "id": "F3ExgkukTeLT",
        "outputId": "174f5c3e-06d7-4a09-e759-1419831f2e65"
      },
      "outputs": [
        {
          "output_type": "stream",
          "name": "stdout",
          "text": [
            "[(1, 1), (2, 8), (5, 125), (6, 216)]\n"
          ]
        }
      ],
      "source": [
        "# Python program to create a list of tuples\n",
        "# from given list having number and\n",
        "# its cube in each tuple\n",
        "\n",
        "# creating a list\n",
        "list1 = [1, 2, 5, 6]\n",
        "\n",
        "# using list comprehension to iterate each\n",
        "# values in list and create a tuple as specified\n",
        "res = [(val, pow(val, 3)) for val in list1]\n",
        "\n",
        "# print the result\n",
        "print(res)"
      ]
    },
    {
      "cell_type": "code",
      "source": [
        "list1 = [1, 2, 5, 6]\n",
        "res = list(map(lambda x: (x, x**3), list1))\n",
        "print(res)\n",
        "#This code is contributed by Edula Vinay Kumar Reddy"
      ],
      "metadata": {
        "colab": {
          "base_uri": "https://localhost:8080/"
        },
        "id": "kQ9Ort5RULhN",
        "outputId": "8c057a68-429c-4a66-99bb-aa1054ee1efb"
      },
      "execution_count": 2,
      "outputs": [
        {
          "output_type": "stream",
          "name": "stdout",
          "text": [
            "[(1, 1), (2, 8), (5, 125), (6, 216)]\n"
          ]
        }
      ]
    },
    {
      "cell_type": "code",
      "source": [
        "# Python program to count the items\n",
        "# until a list is encountered\n",
        "def Count(li):\n",
        "    counter = 0\n",
        "    for num in li:\n",
        "        if isinstance(num, tuple):\n",
        "            break\n",
        "        counter = counter + 1\n",
        "    return counter\n",
        "\n",
        "# Driver Code\n",
        "li = [4, 5, 6, 10, (1, 2, 3), 11, 2, 4]\n",
        "print(Count(li))"
      ],
      "metadata": {
        "colab": {
          "base_uri": "https://localhost:8080/"
        },
        "id": "DJ_uoFxqUMf0",
        "outputId": "1cdf9834-fe8a-46b1-f47d-e5e839293100"
      },
      "execution_count": 3,
      "outputs": [
        {
          "output_type": "stream",
          "name": "stdout",
          "text": [
            "4\n"
          ]
        }
      ]
    },
    {
      "cell_type": "code",
      "source": [
        "\n",
        "# Python code to remove duplicate elements\n",
        "def Remove(duplicate):\n",
        "    final_list = []\n",
        "    for num in duplicate:\n",
        "        if num not in final_list:\n",
        "            final_list.append(num)\n",
        "    return final_list\n",
        "\n",
        "# Driver Code\n",
        "duplicate = [2, 4, 10, 20, 5, 2, 20, 4]\n",
        "print(Remove(duplicate))"
      ],
      "metadata": {
        "colab": {
          "base_uri": "https://localhost:8080/"
        },
        "id": "Ln8mMB7tUl_x",
        "outputId": "35a8228f-ca9f-42ef-942b-2360ecad0b41"
      },
      "execution_count": 4,
      "outputs": [
        {
          "output_type": "stream",
          "name": "stdout",
          "text": [
            "[2, 4, 10, 20, 5]\n"
          ]
        }
      ]
    },
    {
      "cell_type": "code",
      "source": [
        "\n",
        "# initializing list\n",
        "test_list = [1, 4, 5, 6, 3, 5]\n",
        "\n",
        "# printing original list\n",
        "print(\"The original list is : \" + str(test_list))\n",
        "\n",
        "# First naive method\n",
        "# using loop method to print last element\n",
        "for i in range(0, len(test_list)):\n",
        "\n",
        "    if i == (len(test_list)-1):\n",
        "        print(\"The last element of list using loop : \"\n",
        "              + str(test_list[i]))\n",
        "\n",
        "# Second naive method\n",
        "# using reverse method to print last element\n",
        "test_list.reverse()\n",
        "print(\"The last element of list using reverse : \"\n",
        "      + str(test_list[0]))"
      ],
      "metadata": {
        "colab": {
          "base_uri": "https://localhost:8080/"
        },
        "id": "Ireh2Xh7UwvW",
        "outputId": "4a8d9a62-ce3d-4e65-bb16-288e90ae7182"
      },
      "execution_count": 5,
      "outputs": [
        {
          "metadata": {
            "tags": null
          },
          "name": "stdout",
          "output_type": "stream",
          "text": [
            "The original list is : [1, 4, 5, 6, 3, 5]\n",
            "The last element of list using loop : 5\n",
            "The last element of list using reverse : 5\n"
          ]
        }
      ]
    },
    {
      "cell_type": "code",
      "source": [],
      "metadata": {
        "id": "-7KMmvavUxgx"
      },
      "execution_count": null,
      "outputs": []
    }
  ]
}
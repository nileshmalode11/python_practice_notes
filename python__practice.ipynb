{
  "nbformat": 4,
  "nbformat_minor": 0,
  "metadata": {
    "colab": {
      "provenance": [],
      "authorship_tag": "ABX9TyNHRt7zOk7Ux5/OSGvTbePR",
      "include_colab_link": true
    },
    "kernelspec": {
      "name": "python3",
      "display_name": "Python 3"
    },
    "language_info": {
      "name": "python"
    }
  },
  "cells": [
    {
      "cell_type": "markdown",
      "metadata": {
        "id": "view-in-github",
        "colab_type": "text"
      },
      "source": [
        "<a href=\"https://colab.research.google.com/github/nileshmalode11/python_practice_notes/blob/main/python__practice.ipynb\" target=\"_parent\"><img src=\"https://colab.research.google.com/assets/colab-badge.svg\" alt=\"Open In Colab\"/></a>"
      ]
    },
    {
      "cell_type": "code",
      "execution_count": 17,
      "metadata": {
        "colab": {
          "base_uri": "https://localhost:8080/"
        },
        "id": "PB4zSe21b-dI",
        "outputId": "ce57a907-1cd1-4fef-c6c0-c84d240b7dd5"
      },
      "outputs": [
        {
          "output_type": "stream",
          "name": "stdout",
          "text": [
            "['N', 'i', 'l', 'e', 's', 'h', 'G', 'a', 'n', 'e', 's', 'h', 'M', 'a', 'l', 'o', 'd', 'e']\n"
          ]
        }
      ],
      "source": [
        "string = \"Nilesh Ganesh Malode\"\n",
        "len(string)\n",
        "lst = list(string)\n",
        "lst = [char for char in string if char not in \" \"]\n",
        "print(lst)"
      ]
    },
    {
      "cell_type": "code",
      "source": [
        "x = string[0]\n",
        "print(x)"
      ],
      "metadata": {
        "colab": {
          "base_uri": "https://localhost:8080/"
        },
        "id": "qnpKYpmJcZIf",
        "outputId": "c8e58068-95ef-4760-842b-c7c61a5eb30a"
      },
      "execution_count": 18,
      "outputs": [
        {
          "output_type": "stream",
          "name": "stdout",
          "text": [
            "N\n"
          ]
        }
      ]
    },
    {
      "cell_type": "code",
      "source": [
        "string = \"Nilesh Ganesh Malode\"\n",
        "string = string.lower()\n",
        "count = {}\n",
        "for char in string:\n",
        "  if char==\" \":\n",
        "    pass\n",
        "  elif char  in count:\n",
        "    count[char] += 1\n",
        "  else :\n",
        "    count[char] = 1\n",
        "print(count)"
      ],
      "metadata": {
        "colab": {
          "base_uri": "https://localhost:8080/"
        },
        "id": "-1HuT9CceTYx",
        "outputId": "304e5aca-866b-40eb-be40-1df572208ab4"
      },
      "execution_count": 51,
      "outputs": [
        {
          "output_type": "stream",
          "name": "stdout",
          "text": [
            "{'n': 2, 'i': 1, 'l': 2, 'e': 3, 's': 2, 'h': 2, 'g': 1, 'a': 2, 'm': 1, 'o': 1, 'd': 1}\n"
          ]
        }
      ]
    },
    {
      "cell_type": "code",
      "source": [
        "import string\n",
        "\n",
        "all_alphabets = string.ascii_lowercase\n",
        "print(all_alphabets)\n",
        "uppercase = string.ascii_uppercase\n",
        "print(uppercase)"
      ],
      "metadata": {
        "colab": {
          "base_uri": "https://localhost:8080/"
        },
        "id": "_9lDRxNuex3H",
        "outputId": "1d1c9deb-37e3-44c8-c877-c1cfe2a71f26"
      },
      "execution_count": 33,
      "outputs": [
        {
          "output_type": "stream",
          "name": "stdout",
          "text": [
            "abcdefghijklmnopqrstuvwxyz\n",
            "ABCDEFGHIJKLMNOPQRSTUVWXYZ\n"
          ]
        }
      ]
    },
    {
      "cell_type": "code",
      "source": [
        "string = \"Nilesh Ganesh Malode\"\n",
        "new_string =\"\"\n",
        "for char in string:\n",
        "  if \"A\" <= char <= \"Z\":\n",
        "    new_string+=chr(ord(char)+32)\n",
        "  else:\n",
        "    new_string+=char\n",
        "print(new_string)"
      ],
      "metadata": {
        "colab": {
          "base_uri": "https://localhost:8080/"
        },
        "id": "8U2ERIsThIvp",
        "outputId": "cdac9972-a120-4c86-d9ab-f75f221ccf2d"
      },
      "execution_count": 39,
      "outputs": [
        {
          "output_type": "stream",
          "name": "stdout",
          "text": [
            "nilesh ganesh malode\n"
          ]
        }
      ]
    },
    {
      "cell_type": "code",
      "source": [
        "string = \"Nilesh Ganesh Malode\"\n",
        "new_string = \"\"\n",
        "\n",
        "for char in string:\n",
        "    if \"A\" <= char <= \"Z\":\n",
        "        new_string += chr(ord(char) + 32)  # Convert uppercase to lowercase\n",
        "    else:\n",
        "        new_string += char\n",
        "\n",
        "print(new_string)"
      ],
      "metadata": {
        "colab": {
          "base_uri": "https://localhost:8080/"
        },
        "id": "85c9LNtGinbr",
        "outputId": "6baa9d99-9829-4a07-df61-26c9bf448902"
      },
      "execution_count": 38,
      "outputs": [
        {
          "output_type": "stream",
          "name": "stdout",
          "text": [
            "nilesh ganesh malode\n"
          ]
        }
      ]
    },
    {
      "cell_type": "code",
      "source": [
        "# Split the string into words\n",
        "words = new_string.split()\n",
        "print(words)\n",
        "x = new_string[::-1]\n",
        "print(x)\n",
        "# Reverse the order of words\n",
        "reversed_string = ' '.join(words[::-1])\n",
        "\n",
        "print(reversed_string)"
      ],
      "metadata": {
        "colab": {
          "base_uri": "https://localhost:8080/"
        },
        "id": "sm6LObl1jtAn",
        "outputId": "1f79bcf6-6118-43f5-eb0f-05e29a44c99b"
      },
      "execution_count": 49,
      "outputs": [
        {
          "output_type": "stream",
          "name": "stdout",
          "text": [
            "['nilesh', 'ganesh', 'malode']\n",
            "edolam hsenag hselin\n",
            "malode ganesh nilesh\n"
          ]
        }
      ]
    },
    {
      "cell_type": "code",
      "source": [
        "# Reverse the string\n",
        "reversed_string = \"\"\n",
        "current_word = \"\"\n",
        "for char in new_string:\n",
        "    if char != \" \":\n",
        "        current_word = char + current_word\n",
        "    else:\n",
        "        reversed_string = current_word + \" \" + reversed_string\n",
        "        current_word = \"\"\n",
        "\n",
        "# reversed_string = current_word + \" \" + reversed_string\n",
        "\n",
        "print(reversed_string)"
      ],
      "metadata": {
        "colab": {
          "base_uri": "https://localhost:8080/"
        },
        "id": "r8dPS-lqkLSg",
        "outputId": "45160551-6e63-4dc0-f36a-30458776b852"
      },
      "execution_count": 45,
      "outputs": [
        {
          "output_type": "stream",
          "name": "stdout",
          "text": [
            "hsenag hselin \n"
          ]
        }
      ]
    },
    {
      "cell_type": "code",
      "source": [
        "string = \"Nilesh Ganesh Malode patil\"\n",
        "\n",
        "# Convert uppercase to lowercase\n",
        "lower_string = \"\"\n",
        "for char in string:\n",
        "    if \"A\" <= char <= \"Z\":\n",
        "        lower_string += chr(ord(char) + 32)  # Convert uppercase to lowercase\n",
        "    else:\n",
        "        lower_string += char\n",
        "\n",
        "# Reverse the order of words\n",
        "reversed_string = \"\"\n",
        "current_word = \"\"\n",
        "for char in lower_string:\n",
        "    if char != \" \":\n",
        "        current_word += char\n",
        "    else:\n",
        "        reversed_string = current_word + \" \" + reversed_string\n",
        "        current_word = \"\"\n",
        "\n",
        "# Add the last word (or the only word if there's only one)\n",
        "reversed_string = current_word + \" \" + reversed_string\n",
        "\n",
        "print(reversed_string)\n"
      ],
      "metadata": {
        "colab": {
          "base_uri": "https://localhost:8080/"
        },
        "id": "w7CxpzGZk_aA",
        "outputId": "03304f48-5e5e-4f02-ea7d-bc7a85b06a41"
      },
      "execution_count": 46,
      "outputs": [
        {
          "output_type": "stream",
          "name": "stdout",
          "text": [
            "malode ganesh nilesh \n"
          ]
        }
      ]
    },
    {
      "cell_type": "code",
      "source": [
        "x = \"nilesh\" , \"malode\"\n",
        "print(x)\n",
        "type(x)"
      ],
      "metadata": {
        "colab": {
          "base_uri": "https://localhost:8080/"
        },
        "id": "Dxp7bOpylsJz",
        "outputId": "ae03f812-2748-4d86-8681-78c628952edf"
      },
      "execution_count": 62,
      "outputs": [
        {
          "output_type": "stream",
          "name": "stdout",
          "text": [
            "('nilesh', 'malode')\n"
          ]
        },
        {
          "output_type": "execute_result",
          "data": {
            "text/plain": [
              "tuple"
            ]
          },
          "metadata": {},
          "execution_count": 62
        }
      ]
    },
    {
      "cell_type": "code",
      "source": [
        "count={}\n",
        "for char in x:\n",
        "  if char in count:\n",
        "    count[char]+=1\n",
        "  else:\n",
        "    count[char]=1"
      ],
      "metadata": {
        "id": "XIS9z4jkpjsP"
      },
      "execution_count": 60,
      "outputs": []
    },
    {
      "cell_type": "code",
      "source": [
        "print(count)"
      ],
      "metadata": {
        "colab": {
          "base_uri": "https://localhost:8080/"
        },
        "id": "jxtUqVMIqEvN",
        "outputId": "703bd091-52b4-4662-8433-6f8e0325e2e5"
      },
      "execution_count": 61,
      "outputs": [
        {
          "output_type": "stream",
          "name": "stdout",
          "text": [
            "{'nilesh': 1, 'malode': 1}\n"
          ]
        }
      ]
    },
    {
      "cell_type": "code",
      "source": [
        "lst1 = [1, 2, 3]\n",
        "lst2 = [4, 10, 6]\n",
        "\n",
        "res_lst = []\n",
        "for i in lst1:\n",
        "    x =i\n",
        "    for j in lst2:\n",
        "      x +=j\n",
        "    res_lst.append(x)\n",
        "print(res_lst)\n",
        "\n",
        "\n"
      ],
      "metadata": {
        "colab": {
          "base_uri": "https://localhost:8080/"
        },
        "id": "f1716UiwqIdN",
        "outputId": "dc8f6f3f-fe70-4671-b301-5d69646cbe1f"
      },
      "execution_count": 68,
      "outputs": [
        {
          "output_type": "stream",
          "name": "stdout",
          "text": [
            "[21, 22, 23]\n"
          ]
        }
      ]
    },
    {
      "cell_type": "code",
      "source": [
        "x = \"nilesh\"\n",
        "y = \"hilesn\"\n",
        "x = list(x.upper())\n",
        "y = list(y.upper())\n",
        "x.sort(), y.sort()\n",
        "if x == y:\n",
        "  print(\"True\")\n",
        "else:\n",
        "  print(\"False\")"
      ],
      "metadata": {
        "colab": {
          "base_uri": "https://localhost:8080/"
        },
        "id": "oBAm834Fsbrm",
        "outputId": "5f413085-08a8-4c48-d2cf-fdb583e0ccf5"
      },
      "execution_count": 74,
      "outputs": [
        {
          "output_type": "stream",
          "name": "stdout",
          "text": [
            "True\n"
          ]
        }
      ]
    },
    {
      "cell_type": "code",
      "source": [],
      "metadata": {
        "id": "k3J-x8V2tuhm"
      },
      "execution_count": null,
      "outputs": []
    }
  ]
}